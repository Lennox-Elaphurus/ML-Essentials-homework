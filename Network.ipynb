{
 "cells": [
  {
   "cell_type": "code",
   "execution_count": 1,
   "id": "8d8b53b5-f14f-4769-b995-d75cdacc1d88",
   "metadata": {},
   "outputs": [],
   "source": [
    "import tensorflow as tf\n",
    "import numpy as np"
   ]
  },
  {
   "cell_type": "code",
   "execution_count": 2,
   "id": "8329cfe9-a6b5-4da2-b01e-268836dc6fbb",
   "metadata": {},
   "outputs": [],
   "source": [
    "# Define the neuron's parameters for each task\n",
    "logical_or_weights = tf.Variable([1.0, 0.5])  # Logical OR weights\n",
    "logical_or_bias = tf.Variable(-0.5)  # Logical OR bias"
   ]
  },
  {
   "cell_type": "code",
   "execution_count": 3,
   "id": "e9989747-c9fd-4d55-af90-abb664088a35",
   "metadata": {},
   "outputs": [],
   "source": [
    "masked_logical_or_weights = tf.Variable([1.0, 1.0])  # Masked Logical OR weights\n",
    "masked_logical_or_bias = tf.Variable(-1.5)  # Masked Logical OR bias"
   ]
  },
  {
   "cell_type": "code",
   "execution_count": 4,
   "id": "fedb2a49-5067-4245-ac3b-ef50ab119136",
   "metadata": {},
   "outputs": [],
   "source": [
    "perfect_match_weights = tf.Variable([1.0, 1.0])  # Perfect Match weights\n",
    "perfect_match_bias = tf.Variable(-1.0)  # Perfect Match bias\n"
   ]
  },
  {
   "cell_type": "code",
   "execution_count": 5,
   "id": "05389643-86df-491d-a3d4-050f2d255fde",
   "metadata": {},
   "outputs": [],
   "source": [
    "# Define the activation function\n",
    "def step_function(x):\n",
    "    return tf.cast(tf.greater_equal(x, 0), tf.float32)"
   ]
  },
  {
   "cell_type": "code",
   "execution_count": 6,
   "id": "3572855f-c00e-47ba-9d4b-d484d8c9bc2a",
   "metadata": {},
   "outputs": [],
   "source": [
    "# Create the neural network\n",
    "def neural_network(inputs, weights, bias):\n",
    "    z = tf.reduce_sum(inputs * weights) + bias\n",
    "    output = step_function(z)\n",
    "    return output"
   ]
  },
  {
   "cell_type": "code",
   "execution_count": 7,
   "id": "a2c7504e-ee3a-4cbc-aee3-c3c3a0c937e5",
   "metadata": {},
   "outputs": [],
   "source": [
    "# Test the neural network for Logical OR\n",
    "input_data = tf.constant([[0, 0], [1, 1], [0,1], [1,0]], dtype=tf.float32)\n",
    "logical_or_output = neural_network(input_data, logical_or_weights, logical_or_bias)\n",
    "\n",
    "# Test the neural network for Masked Logical OR\n",
    "masked_logical_or_output = neural_network(input_data, masked_logical_or_weights, masked_logical_or_bias)\n",
    "\n",
    "# Test the neural network for Perfect Match\n",
    "perfect_match_output = neural_network(input_data, perfect_match_weights, perfect_match_bias)\n"
   ]
  },
  {
   "cell_type": "code",
   "execution_count": 8,
   "id": "b9e3e5d9-fd0b-43b0-9f23-951901e72855",
   "metadata": {},
   "outputs": [
    {
     "name": "stdout",
     "output_type": "stream",
     "text": [
      "Logical OR Output: 1.0\n",
      "Masked Logical OR Output: 1.0\n",
      "Perfect Match Output: 1.0\n"
     ]
    }
   ],
   "source": [
    "# Print the outputs\n",
    "print(\"Logical OR Output:\", logical_or_output.numpy())\n",
    "print(\"Masked Logical OR Output:\", masked_logical_or_output.numpy())\n",
    "print(\"Perfect Match Output:\", perfect_match_output.numpy())"
   ]
  },
  {
   "cell_type": "code",
   "execution_count": null,
   "id": "56f3a0a6-29e3-4793-b595-20d10627862b",
   "metadata": {},
   "outputs": [],
   "source": [
    "# Define the hypercube corners for each class\n",
    "red_minus = tf.Variable([0, 0], dtype=tf.float32)\n",
    "blue_plus = tf.Variable([1, 0], dtype=tf.float32)\n",
    "green_circle = tf.Variable([0, 1], dtype=tf.float32)"
   ]
  },
  {
   "cell_type": "code",
   "execution_count": null,
   "id": "6fb75ddf-1b66-48a9-9a01-edcf71303ae8",
   "metadata": {},
   "outputs": [],
   "source": [
    "# Create the neural network\n",
    "def three_layer_network(inputs):\n",
    "    # Hidden layer computations\n",
    "    hidden_layer = step_function(tf.matmul(inputs, weights) + bias)\n",
    "\n",
    "    # Output layer computations\n",
    "    output_layer = step_function(tf.matmul(hidden_layer, output_weights) + output_bias)\n",
    "\n",
    "    return output_layer"
   ]
  },
  {
   "cell_type": "code",
   "execution_count": null,
   "id": "9368c32d-d95c-467c-a307-55861604fe3c",
   "metadata": {},
   "outputs": [],
   "source": [
    "# Test the neural network\n",
    "input_data = tf.constant([[x1, x2]], dtype=tf.float32)  # Replace x1, x2 with your actual input values\n",
    "output = three_layer_network(input_data)"
   ]
  },
  {
   "cell_type": "code",
   "execution_count": null,
   "id": "a491086a-4bf4-445b-b715-75ea7ec55d1c",
   "metadata": {},
   "outputs": [],
   "source": [
    "# Get the predicted class\n",
    "predicted_class = np.argmax(output.numpy())"
   ]
  },
  {
   "cell_type": "code",
   "execution_count": null,
   "id": "1365b7ad-6b00-46f1-967c-9863653304d0",
   "metadata": {},
   "outputs": [],
   "source": [
    "# Print the predicted class\n",
    "class_labels = [\"red minus\", \"blue plus\", \"green circle\"]\n",
    "print(\"Predicted Class:\", class_labels[predicted_class])"
   ]
  },
  {
   "cell_type": "code",
   "execution_count": null,
   "id": "c0d9e19d-8407-404d-bb1f-dcd4198a421e",
   "metadata": {},
   "outputs": [],
   "source": []
  },
  {
   "cell_type": "code",
   "execution_count": null,
   "id": "d3a13d5c-26d2-45a0-acc4-abcf3fbb4d28",
   "metadata": {},
   "outputs": [],
   "source": []
  },
  {
   "cell_type": "code",
   "execution_count": null,
   "id": "3225994a-73f5-45da-8344-d163c869d860",
   "metadata": {},
   "outputs": [],
   "source": []
  },
  {
   "cell_type": "code",
   "execution_count": null,
   "id": "13087828-c62a-4813-b2fc-5224c0fc9dbb",
   "metadata": {},
   "outputs": [],
   "source": []
  },
  {
   "cell_type": "code",
   "execution_count": null,
   "id": "ddcfe42f-c469-4ad0-8e3b-781f385a4997",
   "metadata": {},
   "outputs": [],
   "source": []
  },
  {
   "cell_type": "code",
   "execution_count": null,
   "id": "18ac4c3a-db3b-46eb-b50d-67be9c210a2a",
   "metadata": {},
   "outputs": [],
   "source": []
  },
  {
   "cell_type": "code",
   "execution_count": null,
   "id": "4a367f9f-8d39-40f8-819d-218fbe0fe5dc",
   "metadata": {},
   "outputs": [],
   "source": []
  }
 ],
 "metadata": {
  "kernelspec": {
   "display_name": "Python 3 (ipykernel)",
   "language": "python",
   "name": "python3"
  },
  "language_info": {
   "codemirror_mode": {
    "name": "ipython",
    "version": 3
   },
   "file_extension": ".py",
   "mimetype": "text/x-python",
   "name": "python",
   "nbconvert_exporter": "python",
   "pygments_lexer": "ipython3",
   "version": "3.9.13"
  }
 },
 "nbformat": 4,
 "nbformat_minor": 5
}
