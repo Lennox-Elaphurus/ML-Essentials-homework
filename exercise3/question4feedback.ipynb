{
 "cells": [
  {
   "attachments": {},
   "cell_type": "markdown",
   "metadata": {},
   "source": [
    "## **Johannes Scheider, David Karres, Malte Holczinger**"
   ]
  },
  {
   "cell_type": "code",
   "execution_count": 1,
   "metadata": {},
   "outputs": [
    {
     "name": "stderr",
     "output_type": "stream",
     "text": [
      "/home/Johannes/.conda/envs/uni/lib/python3.10/site-packages/torchvision/io/image.py:13: UserWarning: Failed to load image Python extension: /home/Johannes/.conda/envs/uni/lib/python3.10/site-packages/torchvision/image.so: undefined symbol: _ZN2at4_ops19empty_memory_format4callEN3c108ArrayRefIlEENS2_8optionalINS2_10ScalarTypeEEENS5_INS2_6LayoutEEENS5_INS2_6DeviceEEENS5_IbEENS5_INS2_12MemoryFormatEEE\n",
      "  warn(f\"Failed to load image Python extension: {e}\")\n"
     ]
    }
   ],
   "source": [
    "import numpy as np\n",
    "import matplotlib.pyplot as plt\n",
    "\n",
    "import torch\n",
    "import torch.optim as optim\n",
    "from torch.utils.data import DataLoader\n",
    "\n",
    "import torchvision.datasets as datasets\n",
    "import torchvision.transforms as transforms\n",
    "\n",
    "from torch.nn.functional import conv2d, max_pool2d, cross_entropy"
   ]
  },
  {
   "attachments": {},
   "cell_type": "markdown",
   "metadata": {},
   "source": [
    "### **1 Introduction**"
   ]
  },
  {
   "cell_type": "code",
   "execution_count": 2,
   "metadata": {},
   "outputs": [],
   "source": [
    "# code as proposed in the exercise\n",
    "plt.rc(\"figure\", dpi=100)\n",
    "\n",
    "batch_size = 100\n",
    "\n",
    "# transform images into normalized tensors\n",
    "transform = transforms.Compose([\n",
    "    transforms.ToTensor(),\n",
    "    transforms.Normalize(mean=(0.5,), std=(0.5,))\n",
    "])\n",
    "\n",
    "# load data:\n",
    "train_dataset = datasets.MNIST(\n",
    "    \"./\",\n",
    "    download=True,\n",
    "    train=True,\n",
    "    transform=transform,\n",
    ")\n",
    "\n",
    "\n",
    "test_dataset = datasets.MNIST(\n",
    "    \"./\",\n",
    "    download=True,\n",
    "    train=False,\n",
    "    transform=transform,\n",
    ")\n",
    "\n",
    "# This part is only activated when testing the written code:\n",
    "# only use a small part of training set:\n",
    "#train_dataset = torch.utils.data.Subset(train_dataset, range(0, 100))\n",
    "#test_dataset = torch.utils.data.Subset(test_dataset, range(0, 100))\n",
    "\n",
    "# Setup dataloader\n",
    "train_dataloader = DataLoader(\n",
    "    dataset=train_dataset,\n",
    "    batch_size=batch_size,\n",
    "    shuffle=True,\n",
    "    num_workers=1,\n",
    "    pin_memory=True,\n",
    ")\n",
    "\n",
    "test_dataloader = DataLoader(\n",
    "    dataset=test_dataset,\n",
    "    batch_size=batch_size,\n",
    "    shuffle=False,\n",
    "    num_workers=1,\n",
    "    pin_memory=True,\n",
    ")\n",
    "\n",
    "# How to initialize the weights of the neural network:\n",
    "def init_weights(shape):\n",
    "    # Kaiming He initialization (a good initialization is important)\n",
    "    # https://arxiv.org/abs/1502.01852\n",
    "    std = np.sqrt(2. / shape[0])\n",
    "    w = torch.randn(size=shape) * std\n",
    "    w.requires_grad = True\n",
    "    return w\n",
    "\n",
    "# ReLU:\n",
    "def rectify(x):\n",
    "    # Rectified Linear Unit (ReLU)\n",
    "    return torch.max(torch.zeros_like(x), x)\n",
    "\n",
    "# The used optimizer class:\n",
    "class RMSprop(optim.Optimizer):\n",
    "    \"\"\"\n",
    "    This is a reduced version of the PyTorch internal RMSprop optimizer\n",
    "    It serves here as an example\n",
    "    \"\"\"\n",
    "    def __init__(self, params, lr=1e-3, alpha=0.5, eps=1e-8):\n",
    "        defaults = dict(lr=lr, alpha=alpha, eps=eps)\n",
    "        super(RMSprop, self).__init__(params, defaults)\n",
    "\n",
    "    def step(self):\n",
    "        for group in self.param_groups:\n",
    "            for p in group['params']:\n",
    "                grad = p.grad.data\n",
    "                state = self.state[p]\n",
    "\n",
    "                # state initialization\n",
    "                if len(state) == 0:\n",
    "                    state['square_avg'] = torch.zeros_like(p.data)\n",
    "\n",
    "                square_avg = state['square_avg']\n",
    "                alpha = group['alpha']\n",
    "\n",
    "                # update running averages\n",
    "                square_avg.mul_(alpha).addcmul_(grad, grad, value=1 - alpha)\n",
    "                avg = square_avg.sqrt().add_(group['eps'])\n",
    "\n",
    "                # gradient update\n",
    "                p.data.addcdiv_(grad, avg, value=-group['lr'])\n",
    "\n"
   ]
  },
  {
   "cell_type": "code",
   "execution_count": 3,
   "metadata": {},
   "outputs": [],
   "source": [
    "# define the neural network\n",
    "def model(x, w_h, w_h2, w_o):\n",
    "    h = rectify(x @ w_h)\n",
    "    h2 = rectify(h @ w_h2)\n",
    "    pre_softmax = h2 @ w_o\n",
    "    return pre_softmax\n",
    "\n",
    "\n",
    "# initialize weights\n",
    "\n",
    "# input shape is (B, 784)\n",
    "w_h = init_weights((784, 625))\n",
    "# hidden layer with 625 neurons\n",
    "w_h2 = init_weights((625, 625))\n",
    "# hidden layer with 625 neurons\n",
    "w_o = init_weights((625, 10))\n",
    "# output shape is (B, 10)"
   ]
  },
  {
   "cell_type": "code",
   "execution_count": 4,
   "metadata": {},
   "outputs": [
    {
     "name": "stdout",
     "output_type": "stream",
     "text": [
      "Epoch: 0\n",
      "Mean Train Loss: 3.98e-01\n",
      "Mean Test Loss:  2.09e-01\n",
      "Epoch: 10\n",
      "Mean Train Loss: 1.44e-01\n",
      "Mean Test Loss:  3.23e-01\n",
      "Epoch: 20\n",
      "Mean Train Loss: 1.05e-01\n",
      "Mean Test Loss:  3.96e-01\n",
      "Epoch: 30\n",
      "Mean Train Loss: 7.32e-02\n",
      "Mean Test Loss:  5.41e-01\n",
      "Epoch: 40\n",
      "Mean Train Loss: 4.82e-02\n",
      "Mean Test Loss:  6.74e-01\n",
      "Epoch: 50\n",
      "Mean Train Loss: 3.19e-02\n",
      "Mean Test Loss:  6.50e-01\n",
      "Epoch: 60\n",
      "Mean Train Loss: 3.06e-02\n",
      "Mean Test Loss:  8.74e-01\n",
      "Epoch: 70\n",
      "Mean Train Loss: 2.18e-02\n",
      "Mean Test Loss:  6.80e-01\n",
      "Epoch: 80\n",
      "Mean Train Loss: 1.71e-02\n",
      "Mean Test Loss:  8.77e-01\n",
      "Epoch: 90\n",
      "Mean Train Loss: 1.75e-02\n",
      "Mean Test Loss:  8.69e-01\n",
      "Epoch: 100\n",
      "Mean Train Loss: 1.51e-02\n",
      "Mean Test Loss:  9.37e-01\n"
     ]
    }
   ],
   "source": [
    "# train network\n",
    "optimizer = RMSprop(params=[w_h, w_h2, w_o])\n",
    "\n",
    "n_epochs = 100\n",
    "\n",
    "train_loss = []\n",
    "test_loss = []\n",
    "\n",
    "# put this into a training loop over 100 epochs\n",
    "for epoch in range(n_epochs + 1):\n",
    "    train_loss_this_epoch = []\n",
    "    for idx, batch in enumerate(train_dataloader):\n",
    "        x, y = batch\n",
    "\n",
    "        # our model requires flattened input\n",
    "        x = x.reshape(batch_size, 784)\n",
    "        # feed input through model\n",
    "        noise_py_x = model(x, w_h, w_h2, w_o)\n",
    "\n",
    "        # reset the gradient\n",
    "        optimizer.zero_grad()\n",
    "\n",
    "        # the cross-entropy loss function already contains the softmax\n",
    "        loss = cross_entropy(noise_py_x, y, reduction=\"mean\")\n",
    "\n",
    "        train_loss_this_epoch.append(float(loss))\n",
    "\n",
    "        # compute the gradient\n",
    "        loss.backward()\n",
    "        # update weights\n",
    "        optimizer.step()\n",
    "\n",
    "    train_loss.append(np.mean(train_loss_this_epoch))\n",
    "\n",
    "    # test periodically\n",
    "    if epoch % 10 == 0:\n",
    "        print(f\"Epoch: {epoch}\")\n",
    "        print(f\"Mean Train Loss: {train_loss[-1]:.2e}\")\n",
    "        test_loss_this_epoch = []\n",
    "\n",
    "        # no need to compute gradients for validation\n",
    "        with torch.no_grad():\n",
    "            for idx, batch in enumerate(test_dataloader):\n",
    "                x, y = batch\n",
    "                x = x.reshape(batch_size, 784)\n",
    "                noise_py_x = model(x, w_h, w_h2, w_o)\n",
    "\n",
    "                loss = cross_entropy(noise_py_x, y, reduction=\"mean\")\n",
    "                test_loss_this_epoch.append(float(loss))\n",
    "\n",
    "        test_loss.append(np.mean(test_loss_this_epoch))\n",
    "\n",
    "        print(f\"Mean Test Loss:  {test_loss[-1]:.2e}\")"
   ]
  },
  {
   "cell_type": "code",
   "execution_count": 5,
   "metadata": {},
   "outputs": [
    {
     "data": {
      "text/plain": [
       "<matplotlib.legend.Legend at 0x7f609b447040>"
      ]
     },
     "execution_count": 5,
     "metadata": {},
     "output_type": "execute_result"
    },
    {
     "data": {
      "image/png": "[encoded data removed]",
      "text/plain": [
       "<Figure size 640x480 with 1 Axes>"
      ]
     },
     "metadata": {},
     "output_type": "display_data"
    }
   ],
   "source": [
    "# plot training + test loss\n",
    "plt.plot(np.arange(n_epochs + 1), train_loss, label=\"Train\")\n",
    "plt.plot(np.arange(1, n_epochs + 2, 10), test_loss, label=\"Test\")\n",
    "plt.title(\"Train and Test Loss over Training\")\n",
    "plt.xlabel(\"Epoch\")\n",
    "plt.ylabel(\"Loss\")\n",
    "plt.legend()"
   ]
  },
  {
   "attachments": {},
   "cell_type": "markdown",
   "metadata": {},
   "source": [
    "### **Dropout**"
   ]
  },
  {
   "cell_type": "code",
   "execution_count": 6,
   "metadata": {},
   "outputs": [],
   "source": [
    "# define dropout layer\n",
    "def dropout(X, p_drop=0.5):\n",
    "    if p_drop < 1 and p_drop > 0:\n",
    "        mask = torch.bernoulli(torch.ones_like(X) * (1 - p_drop))\n",
    "        X = torch.where(mask==1,0,X/(1-p_drop))\n",
    "    return X"
   ]
  },
  {
   "cell_type": "code",
   "execution_count": 7,
   "metadata": {},
   "outputs": [],
   "source": [
    "# setup NN, figure and weights\n",
    "plt.rc(\"figure\", dpi=100)\n",
    "\n",
    "batch_size = 100\n",
    "\n",
    "# define the neural network\n",
    "def dropout_model(X, w_h, w_h2, w_o, p_drop_input, p_drop_hidden):\n",
    "    x = dropout(X,p_drop_input)\n",
    "    h = rectify(x @ w_h)\n",
    "    h = dropout(h, p_drop_hidden)\n",
    "    h2 = rectify(h @ w_h2)\n",
    "    h2 = dropout(h2, p_drop_hidden)\n",
    "    pre_softmax = h2 @ w_o\n",
    "    return pre_softmax\n",
    "\n",
    "# initialize weights\n",
    "\n",
    "# input shape is (B, 784)\n",
    "w_h = init_weights((784, 625))\n",
    "# hidden layer with 625 neurons\n",
    "w_h2 = init_weights((625, 625))\n",
    "# hidden layer with 625 neurons\n",
    "w_o = init_weights((625, 10))\n",
    "# output shape is (B, 10)"
   ]
  },
  {
   "cell_type": "code",
   "execution_count": 8,
   "metadata": {},
   "outputs": [
    {
     "name": "stdout",
     "output_type": "stream",
     "text": [
      "Epoch: 0\n",
      "Mean Train Loss: 1.02e+00\n",
      "Mean Test Loss:  6.89e-01\n",
      "Epoch: 10\n",
      "Mean Train Loss: 1.05e+00\n",
      "Mean Test Loss:  1.04e+00\n",
      "Epoch: 20\n",
      "Mean Train Loss: 1.27e+00\n",
      "Mean Test Loss:  1.28e+00\n",
      "Epoch: 30\n",
      "Mean Train Loss: 1.58e+00\n",
      "Mean Test Loss:  1.67e+00\n",
      "Epoch: 40\n",
      "Mean Train Loss: 1.68e+00\n",
      "Mean Test Loss:  1.75e+00\n",
      "Epoch: 50\n",
      "Mean Train Loss: 1.92e+00\n",
      "Mean Test Loss:  1.73e+00\n",
      "Epoch: 60\n",
      "Mean Train Loss: 1.97e+00\n",
      "Mean Test Loss:  2.36e+00\n",
      "Epoch: 70\n",
      "Mean Train Loss: 2.11e+00\n",
      "Mean Test Loss:  2.52e+00\n",
      "Epoch: 80\n",
      "Mean Train Loss: 2.16e+00\n",
      "Mean Test Loss:  2.20e+00\n",
      "Epoch: 90\n",
      "Mean Train Loss: 2.17e+00\n",
      "Mean Test Loss:  2.07e+00\n",
      "Epoch: 100\n",
      "Mean Train Loss: 2.31e+00\n",
      "Mean Test Loss:  2.29e+00\n"
     ]
    }
   ],
   "source": [
    "# train network\n",
    "optimizer = RMSprop(params=[w_h, w_h2, w_o])\n",
    "\n",
    "n_epochs = 100\n",
    "\n",
    "train_loss = []\n",
    "test_loss = []\n",
    "\n",
    "# put this into a training loop over 100 epochs\n",
    "for epoch in range(n_epochs + 1):\n",
    "    train_loss_this_epoch = []\n",
    "    for idx, batch in enumerate(train_dataloader):\n",
    "        x, y = batch\n",
    "\n",
    "        # our model requires flattened input\n",
    "        x = x.reshape(batch_size, 784)\n",
    "        # feed input through model\n",
    "        noise_py_x = dropout_model(x, w_h, w_h2, w_o,0.5,0.5)\n",
    "\n",
    "        # reset the gradient\n",
    "        optimizer.zero_grad()\n",
    "\n",
    "        # the cross-entropy loss function already contains the softmax\n",
    "        loss = cross_entropy(noise_py_x, y, reduction=\"mean\")\n",
    "\n",
    "        train_loss_this_epoch.append(float(loss))\n",
    "\n",
    "        # compute the gradient\n",
    "        loss.backward()\n",
    "        # update weights\n",
    "        optimizer.step()\n",
    "\n",
    "    train_loss.append(np.mean(train_loss_this_epoch))\n",
    "\n",
    "    # test periodically\n",
    "    if epoch % 10 == 0:\n",
    "        print(f\"Epoch: {epoch}\")\n",
    "        print(f\"Mean Train Loss: {train_loss[-1]:.2e}\")\n",
    "        test_loss_this_epoch = []\n",
    "\n",
    "        # no need to compute gradients for validation\n",
    "        with torch.no_grad():\n",
    "            for idx, batch in enumerate(test_dataloader):\n",
    "                x, y = batch\n",
    "                x = x.reshape(batch_size, 784)\n",
    "                noise_py_x = dropout_model(x, w_h, w_h2, w_o,0.5,0.5)\n",
    "\n",
    "                loss = cross_entropy(noise_py_x, y, reduction=\"mean\")\n",
    "                test_loss_this_epoch.append(float(loss))\n",
    "\n",
    "        test_loss.append(np.mean(test_loss_this_epoch))\n",
    "\n",
    "        print(f\"Mean Test Loss:  {test_loss[-1]:.2e}\")"
   ]
  },
  {
   "cell_type": "code",
   "execution_count": 9,
   "metadata": {},
   "outputs": [
    {
     "data": {
      "text/plain": [
       "<matplotlib.legend.Legend at 0x7f605e0141f0>"
      ]
     },
     "execution_count": 9,
     "metadata": {},
     "output_type": "execute_result"
    },
    {
     "data": {
      "image/png": "[encoded data removed]",
      "text/plain": [
       "<Figure size 640x480 with 1 Axes>"
      ]
     },
     "metadata": {},
     "output_type": "display_data"
    }
   ],
   "source": [
    "# plot training + test error\n",
    "plt.plot(np.arange(n_epochs + 1), train_loss, label=\"Train\")\n",
    "plt.plot(np.arange(1, n_epochs + 2, 10), test_loss, label=\"Test\")\n",
    "plt.title(\"Train and Test Loss over Training\")\n",
    "plt.xlabel(\"Epoch\")\n",
    "plt.ylabel(\"Loss\")\n",
    "plt.legend()"
   ]
  },
  {
   "attachments": {},
   "cell_type": "markdown",
   "metadata": {},
   "source": [
    "Using the dropout method we drop random neurons in the training stage. By doing this over and over again we make our network more robust. The essential goal is that the network doesn't learn the noise. If a neuron only compensates the effect of another neuron it isn't helpful for optimizing the loss. This helps us creating a more generalized network, indipendent of specific data.\n",
    "\n",
    "The Test and Training error in this implementation is way higher than the first implementation without dropout. The Network seems to struggle to train using dropout. The Only good thing is that training error and testing error don't diverge as they do in the first implementation. "
   ]
  },
  {
   "attachments": {},
   "cell_type": "markdown",
   "metadata": {},
   "source": [
    "### **3 Parametric Relu**"
   ]
  },
  {
   "cell_type": "code",
   "execution_count": 10,
   "metadata": {},
   "outputs": [],
   "source": [
    "#define parametric ReLU funciton:\n",
    "def PRelu(X,a):\n",
    "    return torch.where(X>0,X,a*X)"
   ]
  },
  {
   "cell_type": "code",
   "execution_count": 11,
   "metadata": {},
   "outputs": [],
   "source": [
    "plt.rc(\"figure\", dpi=100)\n",
    "\n",
    "batch_size = 100\n",
    "\n",
    "# define the neural network\n",
    "def dropout_model(X, w_h, w_h2, w_o, a, p_drop_input, p_drop_hidden):\n",
    "    x = dropout(X,p_drop_input)\n",
    "    h = PRelu(x @ w_h,a)\n",
    "    h = dropout(h, p_drop_hidden)\n",
    "    h2 = PRelu(h @ w_h2,a) \n",
    "    h2 = dropout(h2, p_drop_hidden)\n",
    "    pre_softmax = h2 @ w_o\n",
    "    return pre_softmax\n",
    "\n",
    "# initialize weights\n",
    "\n",
    "# input shape is (B, 784)\n",
    "w_h = init_weights((784, 625))\n",
    "# hidden layer with 625 neurons\n",
    "w_h2 = init_weights((625, 625))\n",
    "# hidden layer with 625 neurons\n",
    "w_o = init_weights((625, 10))\n",
    "a = torch.tensor([0.5])\n",
    "a.requires_grad = True\n",
    "\n",
    "# output shape is (B, 10)"
   ]
  },
  {
   "cell_type": "code",
   "execution_count": 12,
   "metadata": {},
   "outputs": [
    {
     "name": "stdout",
     "output_type": "stream",
     "text": [
      "Epoch: 0\n",
      "Mean Train Loss: 1.16e+00\n",
      "Mean Test Loss:  6.19e-01\n",
      "Epoch: 10\n",
      "Mean Train Loss: 4.36e-01\n",
      "Mean Test Loss:  4.09e-01\n",
      "Epoch: 20\n",
      "Mean Train Loss: 4.34e-01\n",
      "Mean Test Loss:  3.99e-01\n",
      "Epoch: 30\n",
      "Mean Train Loss: 4.23e-01\n",
      "Mean Test Loss:  4.26e-01\n",
      "Epoch: 40\n",
      "Mean Train Loss: 4.37e-01\n",
      "Mean Test Loss:  4.34e-01\n",
      "Epoch: 50\n",
      "Mean Train Loss: 4.47e-01\n",
      "Mean Test Loss:  4.58e-01\n",
      "Epoch: 60\n",
      "Mean Train Loss: 4.53e-01\n",
      "Mean Test Loss:  4.36e-01\n",
      "Epoch: 70\n",
      "Mean Train Loss: 4.66e-01\n",
      "Mean Test Loss:  4.87e-01\n",
      "Epoch: 80\n",
      "Mean Train Loss: 4.63e-01\n",
      "Mean Test Loss:  4.74e-01\n",
      "Epoch: 90\n",
      "Mean Train Loss: 4.76e-01\n",
      "Mean Test Loss:  5.00e-01\n",
      "Epoch: 100\n",
      "Mean Train Loss: 4.84e-01\n",
      "Mean Test Loss:  4.77e-01\n"
     ]
    }
   ],
   "source": [
    "#train network\n",
    "optimizer = RMSprop(params=[w_h, w_h2, w_o,a])\n",
    "batch_size = 100\n",
    "\n",
    "\n",
    "n_epochs = 100\n",
    "\n",
    "train_loss = []\n",
    "test_loss = []\n",
    "\n",
    "# put this into a training loop over 100 epochs\n",
    "for epoch in range(n_epochs + 1):\n",
    "    train_loss_this_epoch = []\n",
    "    for idx, batch in enumerate(train_dataloader):\n",
    "        x, y = batch\n",
    "\n",
    "        # our model requires flattened input\n",
    "        x = x.reshape(batch_size, 784)\n",
    "        # feed input through model\n",
    "        noise_py_x = dropout_model(x, w_h, w_h2, w_o, a,0.5,0.5)\n",
    "\n",
    "        # reset the gradient\n",
    "        optimizer.zero_grad()\n",
    "\n",
    "        # the cross-entropy loss function already contains the softmax\n",
    "        loss = cross_entropy(noise_py_x, y, reduction=\"mean\")\n",
    "\n",
    "        train_loss_this_epoch.append(float(loss))\n",
    "\n",
    "        # compute the gradient\n",
    "        loss.backward()\n",
    "        # update weights\n",
    "        optimizer.step()\n",
    "\n",
    "    train_loss.append(np.mean(train_loss_this_epoch))\n",
    "\n",
    "    # test periodically\n",
    "    if epoch % 10 == 0:\n",
    "        print(f\"Epoch: {epoch}\")\n",
    "        print(f\"Mean Train Loss: {train_loss[-1]:.2e}\")\n",
    "        test_loss_this_epoch = []\n",
    "\n",
    "        # no need to compute gradients for validation\n",
    "        with torch.no_grad():\n",
    "            for idx, batch in enumerate(test_dataloader):\n",
    "                x, y = batch\n",
    "                x = x.reshape(batch_size, 784)\n",
    "                noise_py_x = dropout_model(x, w_h, w_h2, w_o, a, 0.5,0.5)\n",
    "\n",
    "                loss = cross_entropy(noise_py_x, y, reduction=\"mean\")\n",
    "                test_loss_this_epoch.append(float(loss))\n",
    "\n",
    "        test_loss.append(np.mean(test_loss_this_epoch))\n",
    "\n",
    "        print(f\"Mean Test Loss:  {test_loss[-1]:.2e}\")"
   ]
  },
  {
   "cell_type": "code",
   "execution_count": 13,
   "metadata": {},
   "outputs": [
    {
     "data": {
      "text/plain": [
       "<matplotlib.legend.Legend at 0x7f609b5dcfd0>"
      ]
     },
     "execution_count": 13,
     "metadata": {},
     "output_type": "execute_result"
    },
    {
     "data": {
      "image/png": "[encoded data removed]",
      "text/plain": [
       "<Figure size 640x480 with 1 Axes>"
      ]
     },
     "metadata": {},
     "output_type": "display_data"
    }
   ],
   "source": [
    "#plot training + test error\n",
    "plt.plot(np.arange(n_epochs + 1), train_loss, label=\"Train\")\n",
    "plt.plot(np.arange(1, n_epochs + 2, 10), test_loss, label=\"Test\")\n",
    "plt.title(\"Train and Test Loss over Training\")\n",
    "plt.xlabel(\"Epoch\")\n",
    "plt.ylabel(\"Loss\")\n",
    "plt.legend()"
   ]
  },
  {
   "attachments": {},
   "cell_type": "markdown",
   "metadata": {},
   "source": [
    "Using an additional Parametric ReLu both training and test error initially decrease. They don't skyrocket as they do in task 2 but rather fluctuate around it's minimum. With longer training the error increases slightly again."
   ]
  },
  {
   "attachments": {},
   "cell_type": "markdown",
   "metadata": {},
   "source": [
    "### **4 Convolutional layer**"
   ]
  },
  {
   "cell_type": "code",
   "execution_count": 14,
   "metadata": {},
   "outputs": [],
   "source": [
    "trainX = train_dataset.data\n",
    "testX = test_dataset.data\n",
    "\n",
    "#make sure that the input immage has the the correct shape:\n",
    "trainX = trainX.reshape(-1, 1, 28, 28)\n",
    "testX = testX.reshape(-1, 1, 28, 28)"
   ]
  },
  {
   "cell_type": "code",
   "execution_count": 15,
   "metadata": {},
   "outputs": [],
   "source": [
    "# define convolutional network\n",
    "def cnn(X, conv_weights1, conv_weights2, conv_weights3, w_o, w_fc, a, p_drop_input, p_drop_hidden):\n",
    "    x = dropout(X, p_drop_input)\n",
    "    \n",
    "    conv1 = rectify(conv2d(x, conv_weights1))\n",
    "    subsamp1 = max_pool2d(conv1, (2,2))\n",
    "    out1  = dropout(subsamp1, p_drop_hidden)\n",
    "    \n",
    "    conv2 = rectify(conv2d(out1, conv_weights2))\n",
    "    subsamp2 = max_pool2d(conv2, (2,2))\n",
    "    out2  = dropout(subsamp2, p_drop_hidden)\n",
    "    \n",
    "    conv3 = rectify(conv2d(out2, conv_weights3))\n",
    "    subsamp3 = max_pool2d(conv3, (2,2))\n",
    "    out3  = dropout(subsamp3, p_drop_hidden)\n",
    "    \n",
    "    out3_flat = out3.reshape(100, -1)\n",
    "    \n",
    "    fc4 = PRelu(out3_flat @ w_fc, a) \n",
    "    out4 = dropout(fc4, p_drop_hidden)\n",
    "    \n",
    "    pre_softmax = out4 @ w_o\n",
    "    return pre_softmax"
   ]
  },
  {
   "attachments": {},
   "cell_type": "markdown",
   "metadata": {},
   "source": [
    "<div style=\"color: green; font-weight:bold\">it is better to use torch.nn.Module as a base class for the network definition, which provides additional functionality and simplifies the code.</div>"
   ]
  },
  {
   "cell_type": "code",
   "execution_count": 16,
   "metadata": {},
   "outputs": [],
   "source": [
    "# setup weights:\n",
    "conv_weights1 = init_weights((32, 1, 5, 5))\n",
    "conv_weights2 = init_weights((64, 32, 5, 5))\n",
    "conv_weights3 = init_weights((128, 64, 2, 2))\n",
    "w_fc = init_weights((128, 625))\n",
    "w_o = init_weights((625, 10))\n",
    "a = torch.tensor([0.5])\n",
    "a.requires_grad = True"
   ]
  },
  {
   "attachments": {},
   "cell_type": "markdown",
   "metadata": {},
   "source": [
    "<div style=\"color: green; font-weight:\n",
    "bold\"> you can consider using PyTorch's built-in weight initialization methods (torch.nn.init) for better initialization.</div> "
   ]
  },
  {
   "cell_type": "code",
   "execution_count": 17,
   "metadata": {},
   "outputs": [
    {
     "name": "stdout",
     "output_type": "stream",
     "text": [
      "Epoch: 0\n",
      "Mean Train Loss: 7.38e+00\n",
      "Mean Test Loss:  2.31e+00\n",
      "Epoch: 10\n",
      "Mean Train Loss: 2.30e+00\n",
      "Mean Test Loss:  2.30e+00\n",
      "Epoch: 20\n",
      "Mean Train Loss: 2.30e+00\n",
      "Mean Test Loss:  2.30e+00\n",
      "Epoch: 30\n",
      "Mean Train Loss: 2.30e+00\n",
      "Mean Test Loss:  2.30e+00\n",
      "Epoch: 40\n",
      "Mean Train Loss: 2.30e+00\n",
      "Mean Test Loss:  2.30e+00\n",
      "Epoch: 50\n",
      "Mean Train Loss: 2.30e+00\n",
      "Mean Test Loss:  2.30e+00\n",
      "Epoch: 60\n",
      "Mean Train Loss: 2.30e+00\n",
      "Mean Test Loss:  2.30e+00\n",
      "Epoch: 70\n",
      "Mean Train Loss: 2.30e+00\n",
      "Mean Test Loss:  2.30e+00\n",
      "Epoch: 80\n",
      "Mean Train Loss: 2.30e+00\n",
      "Mean Test Loss:  2.30e+00\n",
      "Epoch: 90\n",
      "Mean Train Loss: 2.30e+00\n",
      "Mean Test Loss:  2.30e+00\n",
      "Epoch: 100\n",
      "Mean Train Loss: 2.30e+00\n",
      "Mean Test Loss:  2.30e+00\n"
     ]
    }
   ],
   "source": [
    "# train network\n",
    "optimizer = RMSprop(params=[conv_weights1, conv_weights2, conv_weights3, w_o, w_fc, a])\n",
    "\n",
    "\n",
    "n_epochs = 100\n",
    "\n",
    "train_loss = []\n",
    "test_loss = []\n",
    "\n",
    "# put this into a training loop over 100 epochs\n",
    "for epoch in range(n_epochs + 1):\n",
    "    train_loss_this_epoch = []\n",
    "    for idx, batch in enumerate(train_dataloader):\n",
    "        x, y = batch\n",
    "\n",
    "        # our model requires flattened input\n",
    "        #x = x.reshape(batch_size, 784)\n",
    "        # feed input through model\n",
    "        noise_py_x = cnn(x, conv_weights1, conv_weights2, conv_weights3, w_o, w_fc, a, 0.5, 0.5)\n",
    "\n",
    "        # reset the gradient\n",
    "        optimizer.zero_grad()\n",
    "\n",
    "        # the cross-entropy loss function already contains the softmax\n",
    "        loss = cross_entropy(noise_py_x, y, reduction=\"mean\")\n",
    "\n",
    "        train_loss_this_epoch.append(float(loss))\n",
    "\n",
    "        # compute the gradient\n",
    "        loss.backward()\n",
    "        # update weights\n",
    "        optimizer.step()\n",
    "\n",
    "    train_loss.append(np.mean(train_loss_this_epoch))\n",
    "    \n",
    "    # test periodically\n",
    "    if epoch % 10 == 0:\n",
    "        print(f\"Epoch: {epoch}\")\n",
    "        print(f\"Mean Train Loss: {train_loss[-1]:.2e}\")\n",
    "        test_loss_this_epoch = []\n",
    "\n",
    "        # no need to compute gradients for validation\n",
    "        with torch.no_grad():\n",
    "            for idx, batch in enumerate(test_dataloader):\n",
    "                x, y = batch\n",
    "                #x = x.reshape(batch_size, 784)\n",
    "                noise_py_x = cnn(x, conv_weights1, conv_weights2, conv_weights3, w_o, w_fc, a, 0.5,0.5)\n",
    "\n",
    "                loss = cross_entropy(noise_py_x, y, reduction=\"mean\")\n",
    "                test_loss_this_epoch.append(float(loss))\n",
    "\n",
    "        test_loss.append(np.mean(test_loss_this_epoch))\n",
    "\n",
    "        print(f\"Mean Test Loss:  {test_loss[-1]:.2e}\")"
   ]
  },
  {
   "attachments": {},
   "cell_type": "markdown",
   "metadata": {},
   "source": [
    "<div style=\"color: green; font-weight:\n",
    "bold\">Consider trying other optimizers like Adam (torch.optim.Adam), which might provide  better performance</div> "
   ]
  },
  {
   "cell_type": "code",
   "execution_count": 18,
   "metadata": {},
   "outputs": [
    {
     "data": {
      "text/plain": [
       "<matplotlib.legend.Legend at 0x7f609b3ddb10>"
      ]
     },
     "execution_count": 18,
     "metadata": {},
     "output_type": "execute_result"
    },
    {
     "data": {
      "image/png": "[encoded data removed]",
      "text/plain": [
       "<Figure size 640x480 with 1 Axes>"
      ]
     },
     "metadata": {},
     "output_type": "display_data"
    }
   ],
   "source": [
    "# plot training + test error\n",
    "plt.rc(\"figure\", dpi=100)\n",
    "plt.plot(np.arange(n_epochs + 1), train_loss, label=\"Train\")\n",
    "plt.plot(np.arange(1, n_epochs + 2, 10), test_loss, label=\"Test\")\n",
    "plt.title(\"Train and Test Loss over Training\")\n",
    "plt.xlabel(\"Epoch\")\n",
    "plt.ylabel(\"Loss\")\n",
    "plt.legend()"
   ]
  },
  {
   "attachments": {},
   "cell_type": "markdown",
   "metadata": {},
   "source": [
    "### **4.2 Application of Convolutional Network**"
   ]
  },
  {
   "attachments": {},
   "cell_type": "markdown",
   "metadata": {},
   "source": [
    "![Sketch of Network](cnn_sketch.png)"
   ]
  },
  {
   "cell_type": "code",
   "execution_count": 100,
   "metadata": {},
   "outputs": [
    {
     "data": {
      "image/png": "[encoded data removed]",
      "text/plain": [
       "<Figure size 640x480 with 9 Axes>"
      ]
     },
     "metadata": {},
     "output_type": "display_data"
    }
   ],
   "source": [
    "# Choose one image from the test set\n",
    "image_index = np.random.randint(0, len(test_dataset) - 1)\n",
    "image = test_dataset[image_index][0]\n",
    "label = test_dataset[image_index][1]\n",
    "\n",
    "# Apply convolution to the chosen image using three filters from the first convolutional layer\n",
    "filters = conv_weights1[:3]\n",
    "convolutions = [conv2d(image.unsqueeze(0), filter.unsqueeze(0)).squeeze().detach().numpy() for filter in filters]\n",
    "\n",
    "# Visualize the convolutions and filters\n",
    "fig, axes = plt.subplots(3, 3)\n",
    "axes[0][1].imshow(image.reshape(28,28), cmap='gray')\n",
    "axes[0][1].set_title(f\"Original Image - Label: {label}\")\n",
    "axes[0, 0].axis('off')  # Remove the first image in the top left\n",
    "axes[0, 2].axis('off')  # Remove the second image in the top right\n",
    "for i in range(3):\n",
    "    axes[1][i].imshow(convolutions[i], cmap='gray')\n",
    "    axes[1][i].set_title(f\"Convolution {i+1}\")\n",
    "    axes[2][i].imshow(filters[i].squeeze().detach().numpy(), cmap='gray')\n",
    "    axes[2][i].set_title(f\"Filter {i+1}\")\n",
    "plt.tight_layout()\n",
    "plt.show()"
   ]
  },
  {
   "attachments": {},
   "cell_type": "markdown",
   "metadata": {},
   "source": [
    "<div style=\"color: green; font-weight:\n",
    "bold\">\n",
    "Suggestions: 1.add labels or captions to the subplots in the visualization,  2.set a seed value using np.random.seed() when selecting a random image from the test set,  3.it is better to keep the convolved images as torch.Tensor objects instead of converting them to NumPy arrays.</div> \n"
   ]
  }
 ],
 "metadata": {
  "kernelspec": {
   "display_name": "Python 3 (ipykernel)",
   "language": "python",
   "name": "python3"
  },
  "language_info": {
   "codemirror_mode": {
    "name": "ipython",
    "version": 3
   },
   "file_extension": ".py",
   "mimetype": "text/x-python",
   "name": "python",
   "nbconvert_exporter": "python",
   "pygments_lexer": "ipython3",
   "version": "3.10.11"
  }
 },
 "nbformat": 4,
 "nbformat_minor": 4
}
