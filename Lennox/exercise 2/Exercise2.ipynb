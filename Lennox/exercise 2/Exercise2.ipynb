{
 "cells": [
  {
   "attachments": {},
   "cell_type": "markdown",
   "metadata": {},
   "source": [
    "# Exercise 2"
   ]
  },
  {
   "attachments": {},
   "cell_type": "markdown",
   "metadata": {},
   "source": [
    "## Exercise 2.2\n",
    "\n",
    "\n",
    "$$\n",
    "\\begin{align*}\n",
    "&\\begin{array}{lcl}\n",
    "\\text{For L = 1 :} \\\\\n",
    "Z_{0} = X \\\\\n",
    "\\tilde{Z}_{1} = Z_{0}B_{0} + b_{0} \\\\\n",
    "Z_{1}=\\tilde{Z}_{1}=XB_{0} + b_{0}\n",
    "\\end{array}\\\\\n",
    "\n",
    "\n",
    "\n",
    "&\\begin{array}{lcl}\n",
    "\\text{For L = 2 :} \\\\\n",
    "\\tilde{Z}_{2} = Z_{1}B_{1} + b_{1} \\\\\n",
    "\n",
    "\\begin{align*}\n",
    "Z_{2}&=\\tilde{Z}_{2}\\\\\n",
    "&=(Z_{0}B_{0} + b_{0})B_{1} + b_{1}\\\\\n",
    "&=XB_{0}B_{1} + b_{0}B_{1} + b_{1}\\\\\n",
    "\\end{align*}\\\\\n",
    "\n",
    "\\text{Let} \\tilde{B}_{1} = B_{0}B_{1}, \\tilde{b}_{1} = b_{0}B_{1}+ b_{1}, \\\\\n",
    "\\Rightarrow Z_{2} = X\\tilde{B}_{1} + \\tilde{b}_{1} \\\\\n",
    "\\therefore \\text{network with depth L = 2 is equivalent to 1-layer network (a)} \n",
    "\\end{array}\\\\\n",
    "\n",
    "\n",
    "\n",
    "&\\begin{array}{lcl}\n",
    "\\text{For L = n and L = n+1 :} \\\\\n",
    "\n",
    "Z_{n}=Z_{n-1}B_{n}+b_{n}\\\\\n",
    "\n",
    "\n",
    "\\begin{align*}\n",
    "Z_{n+1}&=Z_{n}B_{n+1}+b_{n+1} \\\\\n",
    "&=(Z_{n-1}B_{n}+b_{n})B_{n+1}+b_{n+1} \\\\\n",
    "&=Z_{n-1}B_{n}B_{n+1} + b_{n}B_{n+1}+b_{n+1} \\\\\n",
    "\\end{align*}\\\\\n",
    "\n",
    "\\text{Let} \\tilde{B}_{n+1} = B_{n}B_{n+1}, \\tilde{b}_{n+1} = b_{n}B_{n+1}+ b_{n+1}, \\\\\n",
    "\n",
    "\\Rightarrow Z_{n+1} = Z_{n-1}\\tilde{B}_{n+1}+\\tilde{b}_{n+1}\\\\\n",
    "\\therefore \\text{network with depth L = n is equivalant to network with depth L = n + 1 (b)}  \\\\\n",
    "\n",
    "\\because \\text{(a) and (b)} \\\\\n",
    "\\therefore \\text{Any network with depth L larger than 1 is equivalent to a 1-layer network}\n",
    "\\end{array}\\\\\n",
    "\\end{align*}\n",
    "$$\n",
    "\n",
    "\n"
   ]
  }
 ],
 "metadata": {
  "kernelspec": {
   "display_name": "ML_Essentials",
   "language": "python",
   "name": "python3"
  },
  "language_info": {
   "codemirror_mode": {
    "name": "ipython",
    "version": 3
   },
   "file_extension": ".py",
   "mimetype": "text/x-python",
   "name": "python",
   "nbconvert_exporter": "python",
   "pygments_lexer": "ipython3",
   "version": "3.11.3"
  },
  "orig_nbformat": 4
 },
 "nbformat": 4,
 "nbformat_minor": 2
}
