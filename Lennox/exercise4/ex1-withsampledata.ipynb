{
 "cells": [
  {
   "cell_type": "code",
   "execution_count": 1,
   "id": "637ae987-af5c-4e66-8f34-ca223e465581",
   "metadata": {},
   "outputs": [
    {
     "name": "stdout",
     "output_type": "stream",
     "text": [
      "[[3.8318987  3.9592574  3.602145   ... 0.         0.         0.        ]\n",
      " [2.5269575  2.631672   2.7363863  ... 0.         0.         0.        ]\n",
      " [0.92298317 0.7771493  2.2264318  ... 0.         0.         0.        ]\n",
      " ...\n",
      " [0.         0.         0.         ... 0.         0.         0.        ]\n",
      " [0.         0.         0.         ... 0.         0.         0.        ]\n",
      " [0.         0.         0.         ... 0.         0.         0.        ]]\n"
     ]
    },
    {
     "data": {
      "image/png": "[encoded data removed]",
      "text/plain": [
       "<Figure size 640x480 with 2 Axes>"
      ]
     },
     "metadata": {},
     "output_type": "display_data"
    },
    {
     "ename": "",
     "evalue": "",
     "output_type": "error",
     "traceback": [
      "\u001b[1;31mThe Kernel crashed while executing code in the the current cell or a previous cell. Please review the code in the cell(s) to identify a possible cause of the failure. Click <a href='https://aka.ms/vscodeJupyterKernelCrash'>here</a> for more info. View Jupyter <a href='command:jupyter.viewOutput'>log</a> for further details."
     ]
    }
   ],
   "source": [
    "import numpy as np\n",
    "from scipy.sparse import coo_matrix\n",
    "import matplotlib.pyplot as plt\n",
    "\n",
    "def construct_X(M, alphas, Np=None):\n",
    "    if Np is None:\n",
    "        Np = int(np.sqrt(2) * M)\n",
    "\n",
    "    D = M * M\n",
    "    No = len(alphas)\n",
    "    N = Np * No\n",
    "\n",
    "    h = 1\n",
    "    a0 = -(M - 1) / 2\n",
    "    b0 = -(M - 1) / 2\n",
    "    ja, jb = np.meshgrid(np.arange(M), np.arange(M))\n",
    "    C = np.stack((a0 + ja * h, b0 + jb * h), axis=0)\n",
    "\n",
    "    i_indices = []\n",
    "    j_indices = []\n",
    "    weights = []\n",
    "\n",
    "    for alpha_idx, alpha in enumerate(alphas):\n",
    "        n = np.array([[np.cos(np.deg2rad(alpha))], [np.sin(np.deg2rad(alpha))]])\n",
    "        p = np.dot(C.transpose((1, 2, 0)), n) + 1\n",
    "\n",
    "        mask = np.logical_and(p > 0, p < Np)\n",
    "        indices = np.where(mask)\n",
    "\n",
    "        if len(indices[0]) > 0:\n",
    "            i_indices.extend([alpha_idx] * len(indices[0]))\n",
    "            j_indices.extend(indices[0])\n",
    "            weights.extend(p[indices] - np.floor(p[indices]))\n",
    "\n",
    "    X = coo_matrix((weights, (i_indices, j_indices)), shape=(N, D), dtype=np.float32)\n",
    "\n",
    "    return X\n",
    "\n",
    "# Example usage\n",
    "M = 10\n",
    "alphas = [-33, 1, 42]\n",
    "\n",
    "X = construct_X(M, alphas)\n",
    "\n",
    "# Convert sparse matrix to dense numpy array for visualization\n",
    "X_dense = X.toarray()\n",
    "print(X_dense)\n",
    "\n",
    "# Determine the minimum and maximum values in X\n",
    "X_min = np.min(X_dense[X_dense > 0])\n",
    "X_max = np.max(X_dense)\n",
    "\n",
    "# Scale the plot based on the minimum and maximum values in X\n",
    "plt.imshow(X_dense, cmap='viridis', extent=[0, M, 0, len(alphas)], vmin=X_min, vmax=X_max, aspect='auto')\n",
    "plt.colorbar()\n",
    "plt.xlabel('Column index')\n",
    "plt.ylabel('Alpha index')\n",
    "plt.title('X matrix')\n",
    "plt.show()\n"
   ]
  },
  {
   "cell_type": "code",
   "execution_count": null,
   "id": "d8817d5d-de7f-478f-bc7e-4de4e5d7e767",
   "metadata": {},
   "outputs": [],
   "source": []
  }
 ],
 "metadata": {
  "kernelspec": {
   "display_name": "Python 3 (ipykernel)",
   "language": "python",
   "name": "python3"
  },
  "language_info": {
   "codemirror_mode": {
    "name": "ipython",
    "version": 3
   },
   "file_extension": ".py",
   "mimetype": "text/x-python",
   "name": "python",
   "nbconvert_exporter": "python",
   "pygments_lexer": "ipython3",
   "version": "3.11.3"
  }
 },
 "nbformat": 4,
 "nbformat_minor": 5
}
