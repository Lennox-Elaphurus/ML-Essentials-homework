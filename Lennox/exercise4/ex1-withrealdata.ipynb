{
 "cells": [
  {
   "cell_type": "code",
   "execution_count": 1,
   "id": "52ac963b-679c-4f25-8f02-4d9f22d4f470",
   "metadata": {},
   "outputs": [
    {
     "name": "stdout",
     "output_type": "stream",
     "text": [
      "alphas.shape=(90,)\n",
      "y.shape=(9810,)\n"
     ]
    },
    {
     "name": "stderr",
     "output_type": "stream",
     "text": [
      " 11%|█         | 10/90 [04:49<38:37, 28.97s/it]\n"
     ]
    }
   ],
   "source": [
    "import numpy as np\n",
    "from scipy.sparse import coo_matrix\n",
    "import matplotlib.pyplot as plt\n",
    "import os\n",
    "from tqdm import tqdm\n",
    "\n",
    "def construct_X(M, alphas, Np=None):\n",
    "    if Np is None:\n",
    "        Np = int(np.sqrt(2) * M)\n",
    "\n",
    "    D = M * M\n",
    "    No = len(alphas)\n",
    "    N = Np * No\n",
    "\n",
    "    h = 1\n",
    "    a0 = -(M - 1) / 2\n",
    "    b0 = -(M - 1) / 2\n",
    "    ja, jb = np.meshgrid(np.arange(M), np.arange(M))\n",
    "    C = np.stack((a0 + ja * h, b0 + jb * h), axis=0)\n",
    "\n",
    "    i_indices = []\n",
    "    j_indices = []\n",
    "    weights = []\n",
    "\n",
    "    for alpha_idx in tqdm(range(len(alphas))):\n",
    "        alpha = alphas[alpha_idx]\n",
    "        n = np.array([[np.cos(np.deg2rad(alpha))], [np.sin(np.deg2rad(alpha))]])\n",
    "        p = np.dot(C.transpose((1, 2, 0)), n) + 1\n",
    "\n",
    "        mask = np.logical_and(p > 0, p < Np)\n",
    "        indices = np.where(mask)\n",
    "\n",
    "        if len(indices[0]) > 0:\n",
    "            i_indices.extend([alpha_idx] * len(indices[0]))\n",
    "            j_indices.extend(indices[0])\n",
    "            weights.extend(p[indices] - np.floor(p[indices]))\n",
    "\n",
    "    X = coo_matrix((weights, (i_indices, j_indices)), shape=(N, D), dtype=np.float32)\n",
    "\n",
    "    return X\n",
    "\n",
    "data_path = \"./data/\"\n",
    "\n",
    "y = np.load(os.path.join(data_path, \"y_77.npy\"))\n",
    "alphas = np.load(os.path.join(data_path, \"alphas_77.npy\"))\n",
    "\n",
    "# Example usage\n",
    "print(f\"alphas.shape={alphas.shape}\")\n",
    "print(f\"y.shape={y.shape}\")\n",
    "M = y.shape[0]\n",
    "X = construct_X(M, alphas)\n",
    "\n",
    "# Convert sparse matrix to dense numpy array for visualization\n",
    "X_dense = X.toarray()\n",
    "\n",
    "# Determine the minimum and maximum values in X\n",
    "X_min = np.min(X_dense[X_dense > 0])\n",
    "X_max = np.max(X_dense)\n",
    "\n",
    "# Visualize the matrix with the adjusted color scale\n",
    "plt.imshow(X_dense, cmap='viridis', extent=[0, M, 0, len(alphas)], vmin=X_min, vmax=X_max, aspect='auto')\n",
    "plt.colorbar()\n",
    "plt.xlabel('Column index')\n",
    "plt.ylabel('Alpha index')\n",
    "plt.title('X matrix')\n",
    "plt.show()\n"
   ]
  }
 ],
 "metadata": {
  "kernelspec": {
   "display_name": "Python 3 (ipykernel)",
   "language": "python",
   "name": "python3"
  },
  "language_info": {
   "codemirror_mode": {
    "name": "ipython",
    "version": 3
   },
   "file_extension": ".py",
   "mimetype": "text/x-python",
   "name": "python",
   "nbconvert_exporter": "python",
   "pygments_lexer": "ipython3",
   "version": "3.11.3"
  }
 },
 "nbformat": 4,
 "nbformat_minor": 5
}
